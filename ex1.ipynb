{
 "cells": [
  {
   "cell_type": "code",
   "execution_count": 2,
   "metadata": {},
   "outputs": [],
   "source": [
    "aquivo = open(\"simplifica.txt\",\"r\")\n",
    "aquivo\n",
    "\n",
    "aquivo.close()"
   ]
  },
  {
   "cell_type": "code",
   "execution_count": 3,
   "metadata": {},
   "outputs": [
    {
     "name": "stdout",
     "output_type": "stream",
     "text": [
      "Existe aquivo sim\n"
     ]
    }
   ],
   "source": [
    "import os\n",
    "\n",
    "if os.path.exists(\"simplifica.txt\"):\n",
    "    aquivo = open(\"simplifica.txt\")\n",
    "    print(\"Existe aquivo sim\")\n",
    "else:\n",
    "    print(\"aquivo nao existe!\")"
   ]
  },
  {
   "cell_type": "code",
   "execution_count": 4,
   "metadata": {},
   "outputs": [
    {
     "name": "stdout",
     "output_type": "stream",
     "text": [
      "A palavra Wilfrid apareceu 4 vez no aquivo\n"
     ]
    }
   ],
   "source": [
    "aquivo = open(\"simplifica.txt\",\"a+\", encoding='utf-8')\n",
    "aquivo.write(\"Wilfrid\\n\")\n",
    "aquivo.close()\n",
    "\n",
    "palavra = \"Wilfrid\"\n",
    "conta = 0\n",
    "\n",
    "aquivo = open(\"simplifica.txt\",\"r\", encoding='utf-8', errors='replace')\n",
    "for linha in aquivo:\n",
    "    if palavra in linha:\n",
    "        conta = conta + 1\n",
    "\n",
    "\n",
    "\n",
    "print(f\"A palavra {palavra} apareceu {conta} vez no aquivo\")\n",
    "aquivo.close()"
   ]
  }
 ],
 "metadata": {
  "kernelspec": {
   "display_name": "base",
   "language": "python",
   "name": "python3"
  },
  "language_info": {
   "codemirror_mode": {
    "name": "ipython",
    "version": 3
   },
   "file_extension": ".py",
   "mimetype": "text/x-python",
   "name": "python",
   "nbconvert_exporter": "python",
   "pygments_lexer": "ipython3",
   "version": "3.12.7"
  }
 },
 "nbformat": 4,
 "nbformat_minor": 2
}
